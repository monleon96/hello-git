{
 "cells": [
  {
   "attachments": {},
   "cell_type": "markdown",
   "metadata": {},
   "source": [
    "# **Curso Git - MoureDev**"
   ]
  },
  {
   "attachments": {},
   "cell_type": "markdown",
   "metadata": {},
   "source": [
    "## [**Clase 1 - Introducción. Conceptos básicos**](https://www.twitch.tv/videos/1704382580?filter=archives&sort=time)"
   ]
  },
  {
   "attachments": {},
   "cell_type": "markdown",
   "metadata": {},
   "source": [
    "### Comando básicos de Linux\n",
    "\n",
    "**Listar archivos:**\n",
    "Lista los archivos del directorio en el que te encuentres.\n",
    "```bash\n",
    "ls\n",
    "```\n",
    "\n",
    "**Cambiar de directorio:**\n",
    "Cambia de directorio.\n",
    "```bash\n",
    "cd CursoGit\n",
    "```\n",
    "\n",
    "**Obtener directorio actual:**\n",
    "Obtiene el directorio en el que te encuentras.\n",
    "```bash\n",
    "pwd\n",
    "```\n",
    "\n",
    "**Crear un directorio:**\n",
    "Crea una carpetra en el directorio en el que te encuentres.\n",
    "```bash\n",
    "mkdir CursoGit\n",
    "```\n",
    "\n",
    "**Crear un archivo:**\n",
    "Crea un archivo en el directorio en el que te encuentres.\n",
    "```bash\n",
    "touch helogit.py\n",
    "```"
   ]
  },
  {
   "attachments": {},
   "cell_type": "markdown",
   "metadata": {},
   "source": [
    "### Indicar datos del usuario\n",
    "Solo es necesario hacerlo una vez en el pc.\n",
    "\n",
    "```bash\n",
    "git config --global user.name \"JuanMonleon\"\n",
    "git config --global user.email \"juanmonleon96@gmail.com\"\n",
    "```"
   ]
  },
  {
   "attachments": {},
   "cell_type": "markdown",
   "metadata": {},
   "source": [
    "### Inicializar un repositorio\n",
    "Esto sirve para indicar que vamos a utilizar Git en el proyecto.\n",
    "\n",
    "```bash\n",
    "git init\n",
    "```\n"
   ]
  },
  {
   "attachments": {},
   "cell_type": "markdown",
   "metadata": {},
   "source": [
    "### Renombrar la master branch a main\n",
    "```bash\n",
    "git branch -m main\n",
    "```"
   ]
  },
  {
   "attachments": {},
   "cell_type": "markdown",
   "metadata": {},
   "source": [
    "### Comprobar el estado del repositorio\n",
    "```bash\n",
    "git status\n",
    "```"
   ]
  },
  {
   "attachments": {},
   "cell_type": "markdown",
   "metadata": {},
   "source": [
    "### Añadir archivos al staging area\n",
    "```bash\n",
    "git add CursoGit.ipynb\n",
    "```"
   ]
  },
  {
   "attachments": {},
   "cell_type": "markdown",
   "metadata": {},
   "source": [
    "### Hacer un commit\n",
    "```bash\n",
    "git commit -m \"Primer commit\"\n",
    "```"
   ]
  },
  {
   "attachments": {},
   "cell_type": "markdown",
   "metadata": {},
   "source": [
    "### Ver el historial de commits\n",
    "```bash\n",
    "git log\n",
    "```"
   ]
  },
  {
   "attachments": {},
   "cell_type": "markdown",
   "metadata": {},
   "source": [
    "### Volver a un commit anterior\n",
    "```bash\n",
    "git checkout <hash_del_commit>\n",
    "```\n",
    "\n",
    "El hash del commit se puede ver en el historial de commits. Puede ser el hash completo o solo las ultimas letras.\n",
    "\n",
    "Para seguir creando commits a partir de un estado anterior, después de hacer el checkout, hay que situarse con HEAD:\n",
    "    \n",
    "```bash\n",
    "git checkout HEAD\n",
    "```"
   ]
  },
  {
   "attachments": {},
   "cell_type": "markdown",
   "metadata": {},
   "source": [
    "### Volver al último commit\n",
    "```bash\n",
    "git checkout main\n",
    "```"
   ]
  },
  {
   "attachments": {},
   "cell_type": "markdown",
   "metadata": {},
   "source": [
    "### Crear un alias\n",
    "```bash\n",
    "git config --global alias.<nombre_del_alias> <comando>\n",
    "```\n",
    "\n",
    "Ejemplo:\n",
    "```bash\n",
    "git config --global alias.tree \"log --oneline --decorate --all --graph\"\n",
    "```"
   ]
  },
  {
   "attachments": {},
   "cell_type": "markdown",
   "metadata": {},
   "source": [
    "### Llamar a un alias\n",
    "```bash\n",
    "git <nombre_del_alias>\n",
    "```\n",
    "\n",
    "Ejemplo:\n",
    "```bash\n",
    "git tree\n",
    "```"
   ]
  },
  {
   "attachments": {},
   "cell_type": "markdown",
   "metadata": {},
   "source": [
    "### Ignorar archivos\n",
    "Crear un archivo .gitignore en el directorio raíz del proyecto. En este archivo se indican los archivos que se quieren ignorar.\n",
    "\n",
    "```bash\n",
    "touch .gitignore\n",
    "git add .gitignore\n",
    "git commit -m \"Añadido .gitignore\"\n",
    "```\n",
    "\n",
    "Dentro de ese archivo se indican los archivos que se quieren ignorar. Se pueden ignorar archivos concretos o carpetas completas.\n",
    "\n",
    "Ejemplo:\n",
    "```bash\n",
    "*.pyc\n",
    "```\n",
    "Este ejemplo ignora todos los archivos .pyc"
   ]
  },
  {
   "attachments": {},
   "cell_type": "markdown",
   "metadata": {},
   "source": [
    "### Ver modificaciones en un archivo\n",
    "```bash\n",
    "git diff\n",
    "```"
   ]
  },
  {
   "attachments": {},
   "cell_type": "markdown",
   "metadata": {},
   "source": [
    "## [**Clase 2**](https://www.twitch.tv/videos/1711260603)"
   ]
  },
  {
   "attachments": {},
   "cell_type": "markdown",
   "metadata": {},
   "source": [
    "### Historial de completo de acciones\n",
    "```bash\n",
    "git reflog\n",
    "```"
   ]
  },
  {
   "attachments": {},
   "cell_type": "markdown",
   "metadata": {},
   "source": [
    "### Voler a un commit anterior eliminando los commits posteriores\n",
    "```bash\n",
    "git reset --hard <hash_del_commit>\n",
    "```\n",
    "\n",
    "Si después de hacer esto quieres volver a los commits que has eliminado, puedes hacerlo con el comando reflog obteniendo el hash del commit que quieres volver a recuperar y haciendo de nuevo el hard reset con el commit que quieres volver a recuperar."
   ]
  },
  {
   "attachments": {},
   "cell_type": "markdown",
   "metadata": {},
   "source": [
    "### Crear tags\n",
    "```bash\n",
    "git tag -a <nombre_de_la_etiqueta> -m \"Mensaje de la etiqueta\"\n",
    "```\n",
    "\n",
    "Ejemplo:\n",
    "```bash\n",
    "git tag -a v1.0 -m \"Versión 1.0\"\n",
    "```"
   ]
  },
  {
   "attachments": {},
   "cell_type": "markdown",
   "metadata": {},
   "source": [
    "### Ver tags\n",
    "```bash\n",
    "git tag\n",
    "```"
   ]
  },
  {
   "attachments": {},
   "cell_type": "markdown",
   "metadata": {},
   "source": [
    "### Ver información de un tag\n",
    "```bash\n",
    "git show <nombre_de_la_etiqueta>\n",
    "```"
   ]
  },
  {
   "attachments": {},
   "cell_type": "markdown",
   "metadata": {},
   "source": [
    "### Desplaazarse entre tags\n",
    "```bash\n",
    "git checkout <nombre_de_la_etiqueta>\n",
    "```\n",
    "\n",
    "Si qureremos volver al último commit:\n",
    "```bash\n",
    "git checkout main\n",
    "```"
   ]
  },
  {
   "attachments": {},
   "cell_type": "markdown",
   "metadata": {},
   "source": [
    "### Crear un branch\n",
    "Las ramas sirven para trabajar en paralelo en diferentes versiones del proyecto. Por ejemplo, si estamos trabajando en una versión 1.0 y queremos añadir una nueva funcionalidad, podemos crear un branch para trabajar en esa nueva funcionalidad sin afectar a la versión 1.0.\n",
    "\n",
    "```bash\n",
    "git branch <nombre_del_branch>\n",
    "```\n",
    "\n",
    "Ejemplo: Queremos añadir una nueva funcionalidad a la versión 1.0 que nos añada un login a nuestra app. Para ello creamos un branch llamado login:\n",
    "```bash\n",
    "git branch login\n",
    "```"
   ]
  },
  {
   "attachments": {},
   "cell_type": "markdown",
   "metadata": {},
   "source": [
    "### Cambiar de branch\n",
    "```bash\n",
    "git switch <nombre_del_branch>\n",
    "```\n",
    "\n",
    "La diferencia entre checkout y switch es que checkout es que checkout es un comando más genérico mientras que switch es más específico para cambiar de branch."
   ]
  },
  {
   "attachments": {},
   "cell_type": "markdown",
   "metadata": {},
   "source": [
    "### Juntar dos branches\n",
    "```bash\n",
    "git merge <nombre_del_branch>\n",
    "```\n",
    "\n",
    "Ejemplo: Estamos en la rama login y mientras en la main se ha seguido trabajando. Para actualizar en la rama login los cambios realizados en la main, hacemos un merge:\n",
    "```bash\n",
    "git merge main\n",
    "```\n",
    "\n",
    "Ejemplo: Estamos en la rama main y queremos añadir los cambios realizados en la rama login:\n",
    "```bash\n",
    "git merge login\n",
    "```"
   ]
  },
  {
   "cell_type": "markdown",
   "metadata": {},
   "source": []
  }
 ],
 "metadata": {
  "kernelspec": {
   "display_name": "base",
   "language": "python",
   "name": "python3"
  },
  "language_info": {
   "name": "python",
   "version": "3.8.5 (default, Sep  3 2020, 21:29:08) [MSC v.1916 64 bit (AMD64)]"
  },
  "orig_nbformat": 4,
  "vscode": {
   "interpreter": {
    "hash": "e06ff7da33dc9620448857a90ad8b5f428f0d573d205a934d2841c8aee45ea32"
   }
  }
 },
 "nbformat": 4,
 "nbformat_minor": 2
}
