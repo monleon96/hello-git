{
 "cells": [
  {
   "attachments": {},
   "cell_type": "markdown",
   "metadata": {},
   "source": [
    "# **Curso Git - MoureDev**"
   ]
  },
  {
   "attachments": {},
   "cell_type": "markdown",
   "metadata": {},
   "source": [
    "## [**Clase 1 - Introducción. Conceptos básicos de Git (parte 1)**](https://www.twitch.tv/videos/1704382580?filter=archives&sort=time)"
   ]
  },
  {
   "attachments": {},
   "cell_type": "markdown",
   "metadata": {},
   "source": [
    "### Comando básicos de Linux\n",
    "\n",
    "**Listar archivos:**\n",
    "Lista los archivos del directorio en el que te encuentres.\n",
    "```bash\n",
    "ls\n",
    "```\n",
    "\n",
    "**Cambiar de directorio:**\n",
    "Cambia de directorio.\n",
    "```bash\n",
    "cd CursoGit\n",
    "```\n",
    "\n",
    "**Obtener directorio actual:**\n",
    "Obtiene el directorio en el que te encuentras.\n",
    "```bash\n",
    "pwd\n",
    "```\n",
    "\n",
    "**Crear un directorio:**\n",
    "Crea una carpetra en el directorio en el que te encuentres.\n",
    "```bash\n",
    "mkdir CursoGit\n",
    "```\n",
    "\n",
    "**Crear un archivo:**\n",
    "Crea un archivo en el directorio en el que te encuentres.\n",
    "```bash\n",
    "touch helogit.py\n",
    "```"
   ]
  },
  {
   "attachments": {},
   "cell_type": "markdown",
   "metadata": {},
   "source": [
    "### Indicar datos del usuario\n",
    "Solo es necesario hacerlo una vez en el pc.\n",
    "\n",
    "```bash\n",
    "git config --global user.name \"JuanMonleon\"\n",
    "git config --global user.email \"juanmonleon96@gmail.com\"\n",
    "```"
   ]
  },
  {
   "attachments": {},
   "cell_type": "markdown",
   "metadata": {},
   "source": [
    "### Inicializar un repositorio\n",
    "Esto sirve para indicar que vamos a utilizar Git en el proyecto.\n",
    "\n",
    "```bash\n",
    "git init\n",
    "```\n"
   ]
  },
  {
   "attachments": {},
   "cell_type": "markdown",
   "metadata": {},
   "source": [
    "### Renombrar la master branch a main\n",
    "```bash\n",
    "git branch -m main\n",
    "```"
   ]
  },
  {
   "attachments": {},
   "cell_type": "markdown",
   "metadata": {},
   "source": [
    "### Comprobar el estado del repositorio\n",
    "```bash\n",
    "git status\n",
    "```"
   ]
  },
  {
   "attachments": {},
   "cell_type": "markdown",
   "metadata": {},
   "source": [
    "### Añadir archivos al staging area\n",
    "```bash\n",
    "git add CursoGit.ipynb\n",
    "```"
   ]
  },
  {
   "attachments": {},
   "cell_type": "markdown",
   "metadata": {},
   "source": [
    "### Hacer un commit\n",
    "```bash\n",
    "git commit -m \"Primer commit\"\n",
    "```"
   ]
  },
  {
   "attachments": {},
   "cell_type": "markdown",
   "metadata": {},
   "source": [
    "### Ver el historial de commits\n",
    "```bash\n",
    "git log\n",
    "```"
   ]
  },
  {
   "attachments": {},
   "cell_type": "markdown",
   "metadata": {},
   "source": [
    "### Volver a un commit anterior\n",
    "```bash\n",
    "git checkout <hash_del_commit>\n",
    "```\n",
    "\n",
    "El hash del commit se puede ver en el historial de commits. Puede ser el hash completo o solo las ultimas letras.\n",
    "\n",
    "Para seguir creando commits a partir de un estado anterior, después de hacer el checkout, hay que situarse con HEAD:\n",
    "    \n",
    "```bash\n",
    "git checkout HEAD\n",
    "```"
   ]
  },
  {
   "attachments": {},
   "cell_type": "markdown",
   "metadata": {},
   "source": [
    "### Volver al último commit\n",
    "```bash\n",
    "git checkout main\n",
    "```"
   ]
  },
  {
   "attachments": {},
   "cell_type": "markdown",
   "metadata": {},
   "source": [
    "### Crear un alias\n",
    "```bash\n",
    "git config --global alias.<nombre_del_alias> <comando>\n",
    "```\n",
    "\n",
    "Ejemplo:\n",
    "```bash\n",
    "git config --global alias.tree \"log --oneline --decorate --all --graph\"\n",
    "```"
   ]
  },
  {
   "attachments": {},
   "cell_type": "markdown",
   "metadata": {},
   "source": [
    "### Llamar a un alias\n",
    "```bash\n",
    "git <nombre_del_alias>\n",
    "```\n",
    "\n",
    "Ejemplo:\n",
    "```bash\n",
    "git tree\n",
    "```"
   ]
  },
  {
   "attachments": {},
   "cell_type": "markdown",
   "metadata": {},
   "source": [
    "### Ignorar archivos\n",
    "Crear un archivo .gitignore en el directorio raíz del proyecto. En este archivo se indican los archivos que se quieren ignorar.\n",
    "\n",
    "```bash\n",
    "touch .gitignore\n",
    "git add .gitignore\n",
    "git commit -m \"Añadido .gitignore\"\n",
    "```\n",
    "\n",
    "Dentro de ese archivo se indican los archivos que se quieren ignorar. Se pueden ignorar archivos concretos o carpetas completas.\n",
    "\n",
    "Ejemplo:\n",
    "```bash\n",
    "*.pyc\n",
    "```\n",
    "Este ejemplo ignora todos los archivos .pyc"
   ]
  },
  {
   "attachments": {},
   "cell_type": "markdown",
   "metadata": {},
   "source": [
    "### Ver modificaciones en un archivo\n",
    "```bash\n",
    "git diff\n",
    "```"
   ]
  },
  {
   "attachments": {},
   "cell_type": "markdown",
   "metadata": {},
   "source": [
    "## [**Clase 2 - Conceptos básicos de Git (parte 2)**](https://www.twitch.tv/videos/1711260603)"
   ]
  },
  {
   "attachments": {},
   "cell_type": "markdown",
   "metadata": {},
   "source": [
    "### Historial de completo de acciones\n",
    "```bash\n",
    "git reflog\n",
    "```"
   ]
  },
  {
   "attachments": {},
   "cell_type": "markdown",
   "metadata": {},
   "source": [
    "### Voler a un commit anterior eliminando los commits posteriores\n",
    "```bash\n",
    "git reset --hard <hash_del_commit>\n",
    "```\n",
    "\n",
    "Si después de hacer esto quieres volver a los commits que has eliminado, puedes hacerlo con el comando reflog obteniendo el hash del commit que quieres volver a recuperar y haciendo de nuevo el hard reset con el commit que quieres volver a recuperar."
   ]
  },
  {
   "attachments": {},
   "cell_type": "markdown",
   "metadata": {},
   "source": [
    "### Crear tags\n",
    "```bash\n",
    "git tag -a <nombre_de_la_etiqueta> -m \"Mensaje de la etiqueta\"\n",
    "```\n",
    "\n",
    "Ejemplo:\n",
    "```bash\n",
    "git tag -a v1.0 -m \"Versión 1.0\"\n",
    "```"
   ]
  },
  {
   "attachments": {},
   "cell_type": "markdown",
   "metadata": {},
   "source": [
    "### Ver tags\n",
    "```bash\n",
    "git tag\n",
    "```"
   ]
  },
  {
   "attachments": {},
   "cell_type": "markdown",
   "metadata": {},
   "source": [
    "### Ver información de un tag\n",
    "```bash\n",
    "git show <nombre_de_la_etiqueta>\n",
    "```"
   ]
  },
  {
   "attachments": {},
   "cell_type": "markdown",
   "metadata": {},
   "source": [
    "### Desplaazarse entre tags\n",
    "```bash\n",
    "git checkout <nombre_de_la_etiqueta>\n",
    "```\n",
    "\n",
    "Si qureremos volver al último commit:\n",
    "```bash\n",
    "git checkout main\n",
    "```"
   ]
  },
  {
   "attachments": {},
   "cell_type": "markdown",
   "metadata": {},
   "source": [
    "### Crear un branch\n",
    "Las ramas sirven para trabajar en paralelo en diferentes versiones del proyecto. Por ejemplo, si estamos trabajando en una versión 1.0 y queremos añadir una nueva funcionalidad, podemos crear un branch para trabajar en esa nueva funcionalidad sin afectar a la versión 1.0.\n",
    "\n",
    "```bash\n",
    "git branch <nombre_del_branch>\n",
    "```\n",
    "\n",
    "Ejemplo: Queremos añadir una nueva funcionalidad a la versión 1.0 que nos añada un login a nuestra app. Para ello creamos un branch llamado login:\n",
    "```bash\n",
    "git branch login\n",
    "```"
   ]
  },
  {
   "attachments": {},
   "cell_type": "markdown",
   "metadata": {},
   "source": [
    "### Cambiar de branch\n",
    "```bash\n",
    "git switch <nombre_del_branch>\n",
    "```\n",
    "\n",
    "La diferencia entre checkout y switch es que checkout es que checkout es un comando más genérico mientras que switch es más específico para cambiar de branch."
   ]
  },
  {
   "attachments": {},
   "cell_type": "markdown",
   "metadata": {},
   "source": [
    "### Juntar dos branches\n",
    "```bash\n",
    "git merge <nombre_del_branch>\n",
    "```\n",
    "\n",
    "Ejemplo: Estamos en la rama login y mientras en la main se ha seguido trabajando. Para actualizar en la rama login los cambios realizados en la main, hacemos un merge:\n",
    "```bash\n",
    "git merge main\n",
    "```\n",
    "\n",
    "Ejemplo: Estamos en la rama main y queremos añadir los cambios realizados en la rama login:\n",
    "```bash\n",
    "git merge login\n",
    "```"
   ]
  },
  {
   "attachments": {},
   "cell_type": "markdown",
   "metadata": {},
   "source": [
    "### Conflictos en el merge\n",
    "Si al hacer el merge hay conflictos, se nos indicará en qué archivos hay conflictos y en qué líneas. Para solucionarlos, hay que ir al archivo y solucionarlos manualmente. Una vez solucionados, hay que añadirlos al staging area y hacer un commit.\n",
    "\n",
    "Ejemplo: Estamos en la rama login y queremos añadir los cambios realizados en la rama main. Al hacer el merge, nos indica que hay conflictos en el archivo hellogit3.py. Vamos al archivo y solucionamos los conflictos. Una vez solucionados, añadimos el archivo al staging area y hacemos un commit."
   ]
  },
  {
   "cell_type": "markdown",
   "metadata": {},
   "source": [
    "### Guardar cambios sin hacer commit\n",
    "\n",
    "Si necesitas guardar algo de manera temporal, pero no quieres hacer un commit, puedes hacer un stash. Suele ser recomendable cuando el código queda a medio hacer o todavía no es funcional. Esto guarda los cambios en un stash y los elimina del staging area. Para recuperar los cambios, hay que hacer un pop del stash.\n",
    "\n",
    "```bash\n",
    "git stash\n",
    "```\n",
    "\n",
    "Ahora podrías hacer un switch a otra rama y trabajar en ella. Una vez queramos volver a donde estabamos, cambiamos de nuevo a la rama donde estabamos y hacemos un pop del stash:\n",
    "\n",
    "```bash \n",
    "git stash pop\n",
    "```\n"
   ]
  },
  {
   "attachments": {},
   "cell_type": "markdown",
   "metadata": {},
   "source": [
    "### Descartar cambios\n",
    "Si queremos descartar los cambios que hemos hecho en un archivo, pero no queremos hacer un reset, podemos hacer un checkout del archivo. Esto descarta los cambios que hemos hecho en el archivo y los recupera del último commit.\n",
    "\n",
    "```bash\n",
    "git checkout <nombre_del_archivo>\n",
    "```\n",
    "\n",
    "Ejemplo: Hemos hecho el merge de la rama login en la rama main y hemos modificado el archivo login.py estando en la rama main. Ahora queremos descartar los cambios que hemos hecho en el archivo login.py y recuperar el archivo del último commit. Para ello hacemos un checkout del archivo:\n",
    "```bash\n",
    "git checkout login.py\n",
    "```"
   ]
  },
  {
   "attachments": {},
   "cell_type": "markdown",
   "metadata": {},
   "source": [
    "### Eliminar un branch\n",
    "```bash\n",
    "git branch -d <nombre_del_branch>\n",
    "```\n",
    "\n",
    "Ejemplo: Estamos en la rama main y queremos eliminar el branch login:\n",
    "```bash\n",
    "git branch -d login\n",
    "```\n",
    "\n",
    "*NOTA*: En caso de que quisieramos recuperar el branch, podemos hacer un checkout del branch y hacer un reset hard al commit donde queramos volver a recuperar el branch. Con el comando reflog podemos ver el historial de commits y recuperar el hash del commit que queremos volver a recuperar."
   ]
  },
  {
   "attachments": {},
   "cell_type": "markdown",
   "metadata": {},
   "source": [
    "## [**Cheatsheet de comandos**](https://training.github.com/downloads/es_ES/github-git-cheat-sheet/)\n"
   ]
  },
  {
   "attachments": {},
   "cell_type": "markdown",
   "metadata": {},
   "source": [
    "## [**Clase 3 - Introducción a Github**](https://www.twitch.tv/videos/1718205579)"
   ]
  },
  {
   "attachments": {},
   "cell_type": "markdown",
   "metadata": {},
   "source": [
    "### Diferencia entre git y github\n",
    "Git es un sistema de control de versiones (en local). Github es una plataforma que permite alojar repositorios de git (en la nube)."
   ]
  },
  {
   "attachments": {},
   "cell_type": "markdown",
   "metadata": {},
   "source": [
    "### Conectar git con github\n",
    "Para conectar git con github, hay que añadir la url del repositorio de github al repositorio de git. Para ello, vamos a la página de github y copiamos la url del repositorio. Una vez copiada, vamos a la terminal y hacemos un push con la url del repositorio de github:\n",
    "```bash\n",
    "git remote add origin <url_del_repositorio>\n",
    "```\n",
    "\n",
    "Ejemplo: Para añadir el proyecto \"Hello Git\" al repositorio hello-git de github:\n",
    "```bash\n",
    "git remote add origin git@github.com:monleon96/hello-git.git\n",
    "```\n",
    "\n",
    "*NOTA*: Esto todavía no sube el proyecto a github, solo lo conecta. Para subir el proyecto a github, hay que hacer un push."
   ]
  },
  {
   "attachments": {},
   "cell_type": "markdown",
   "metadata": {},
   "source": [
    "### Subir un proyecto a github\n",
    "```bash\n",
    "git push -u origin <nombre_del_branch>\n",
    "```\n",
    "\n",
    "Ejemplo: Para subir el proyecto \"Hello Git\" al repositorio hello-git de github:\n",
    "```bas\n",
    "git push -u origin main\n",
    "```\n"
   ]
  },
  {
   "attachments": {},
   "cell_type": "markdown",
   "metadata": {},
   "source": [
    "### Cambio de usuario\n",
    "Si queremos cambiar el usuario de github, hay que hacer un cambio en el archivo .git/config. En el archivo, hay que cambiar el usuario y el email.\n",
    "Tras eso, hay que asegurarse de que el usuario y el email están bien configurados en la terminal. Para ello, hacemos un commit y se nos pedirá el usuario y el email. Una vez introducidos, se nos pedirá que introduzcamos el usuario y el email de nuevo. Tras esto, ya estaría configurado.\n",
    "\n",
    "Mas información de esto en el vídeo de la clase 3."
   ]
  },
  {
   "cell_type": "markdown",
   "metadata": {},
   "source": [
    "### Cambio de usuario\n",
    "Si queremos cambiar el usuario de github, hay que hacer un cambio en el archivo .git/config. En el archivo, hay que cambiar el usuario y el email.\n",
    "Tras eso, hay que asegurarse de que el usuario y el email están bien configurados en la terminal. Para ello, hacemos un commit y se nos pedirá el usuario y el email. Una vez introducidos, se nos pedirá que introduzcamos el usuario y el email de nuevo. Tras esto, ya estaría configurado.\n",
    "\n",
    "Mas información de esto en el vídeo de la clase 3."
   ]
  },
  {
   "attachments": {},
   "cell_type": "markdown",
   "metadata": {},
   "source": [
    "### Descagar un proyecto de github\n",
    "Fetch y pull son dos comandos que sirven para traer los cambios de un repositorio remoto. La diferencia entre ellos es que fetch solo trae los cambios, pero no los aplica. Pull, por otro lado, trae los cambios y los aplica. Es decir, fetch trae los cambios y los deja en un branch remoto, mientras que pull trae los cambios y los aplica en el branch local.\n",
    "\n",
    "```bash\n",
    "git fetch\n",
    "```\n",
    "\n",
    "```bash\n",
    "git pull\n",
    "```"
   ]
  },
  {
   "attachments": {},
   "cell_type": "markdown",
   "metadata": {},
   "source": [
    "### Subir un proyecto a github\n",
    "Una vez hemos hecho un commit, podemos subir el proyecto a github. Para ello, hacemos un push con la url del repositorio de github:\n",
    "\n",
    "```bash\n",
    "git push -u origin <nombre_del_branch>\n",
    "```"
   ]
  },
  {
   "attachments": {},
   "cell_type": "markdown",
   "metadata": {},
   "source": [
    "### Clonar un proyecto de github\n",
    "Para clonar un proyecto de github, hay que hacer un clone con la url del repositorio de github. Para esto se puede usar el https o el ssh, es más recomendable usar el ssh:\n",
    "\n",
    "```bash\n",
    "git clone <url_del_repositorio>\n",
    "```"
   ]
  },
  {
   "attachments": {},
   "cell_type": "markdown",
   "metadata": {},
   "source": [
    "### Trabajar con repositorios ajenos\n",
    "Para trabajar con repositorios ajenos, hay que hacer un fork del repositorio. Esto crea una copia del repositorio en nuestra cuenta de github. Una vez hecho esto, podemos clonar el repositorio y trabajar en el. \n",
    "El fork se realiza en la página de github, en la pestaña de \"forks\"."
   ]
  },
  {
   "attachments": {},
   "cell_type": "markdown",
   "metadata": {},
   "source": [
    "### Hacer un pull request\n",
    "Para hacer un pull request, hay que hacer un fork del repositorio. Esto crea una copia del repositorio en nuestra cuenta de github. Una vez hecho esto, podemos clonar el repositorio y trabajar en el. Tras trabajar, si hacemos el commit y el push se subirán los cambios al repositorio de tu perfil. Una vez hecho esto, podemos elegir en la pestaña \"contribuir\" de github, la opción de \"pull request\". Esto nos llevará a una página donde podemos elegir el repositorio al que queremos hacer el pull request y la rama de nuestro repositorio que queremos hacer el pull request.\n",
    "\n",
    "Después será tarea del dueño del repositorio aceptar o rechazar el pull request."
   ]
  }
 ],
 "metadata": {
  "kernelspec": {
   "display_name": "base",
   "language": "python",
   "name": "python3"
  },
  "language_info": {
   "name": "python",
   "version": "3.8.5 (default, Sep  3 2020, 21:29:08) [MSC v.1916 64 bit (AMD64)]"
  },
  "orig_nbformat": 4,
  "vscode": {
   "interpreter": {
    "hash": "e06ff7da33dc9620448857a90ad8b5f428f0d573d205a934d2841c8aee45ea32"
   }
  }
 },
 "nbformat": 4,
 "nbformat_minor": 2
}
