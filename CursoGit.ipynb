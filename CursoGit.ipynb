{
 "cells": [
  {
   "attachments": {},
   "cell_type": "markdown",
   "metadata": {},
   "source": [
    "# **Curso Git - MoureDev**"
   ]
  },
  {
   "attachments": {},
   "cell_type": "markdown",
   "metadata": {},
   "source": [
    "## Clase 1"
   ]
  },
  {
   "attachments": {},
   "cell_type": "markdown",
   "metadata": {},
   "source": [
    "### Comando básicos de Linux\n",
    "\n",
    "**Crear un directorio:**\n",
    "Crea una carpetra en el directorio en el que te encuentres.\n",
    "```bash\n",
    "mkdir CursoGit\n",
    "```\n",
    "\n",
    "**Crear un archivo:**\n",
    "Crea un archivo en el directorio en el que te encuentres.\n",
    "```bash\n",
    "touch helogit.py\n",
    "```"
   ]
  },
  {
   "attachments": {},
   "cell_type": "markdown",
   "metadata": {},
   "source": [
    "### Indicar datos del usuario\n",
    "Solo es necesario hacerlo una vez en el pc.\n",
    "\n",
    "```bash\n",
    "git config --global user.name \"JuanMonleon\"\n",
    "git config --global user.email \"juanmonleon96@gmail.com\"\n",
    "```"
   ]
  },
  {
   "attachments": {},
   "cell_type": "markdown",
   "metadata": {},
   "source": [
    "### Inicializar un repositorio\n",
    "Esto sirve para indicar que vamos a utilizar Git en el proyecto.\n",
    "\n",
    "```bash\n",
    "git init\n",
    "```\n"
   ]
  },
  {
   "attachments": {},
   "cell_type": "markdown",
   "metadata": {},
   "source": [
    "### Renombrar la master branch a main\n",
    "```bash\n",
    "git branch -m main\n",
    "```"
   ]
  },
  {
   "attachments": {},
   "cell_type": "markdown",
   "metadata": {},
   "source": [
    "### Comprobar el estado del repositorio\n",
    "```bash\n",
    "git status\n",
    "```"
   ]
  },
  {
   "attachments": {},
   "cell_type": "markdown",
   "metadata": {},
   "source": [
    "### Añadir archivos al staging area\n",
    "```bash\n",
    "git add CursoGit.ipynb\n",
    "```"
   ]
  },
  {
   "attachments": {},
   "cell_type": "markdown",
   "metadata": {},
   "source": [
    "### Hacer un commit\n",
    "```bash\n",
    "git commit -m \"Primer commit\"\n",
    "```"
   ]
  },
  {
   "attachments": {},
   "cell_type": "markdown",
   "metadata": {},
   "source": [
    "### Ver el historial de commits\n",
    "```bash\n",
    "git log\n",
    "```"
   ]
  },
  {
   "cell_type": "markdown",
   "metadata": {},
   "source": []
  }
 ],
 "metadata": {
  "kernelspec": {
   "display_name": "base",
   "language": "python",
   "name": "python3"
  },
  "language_info": {
   "name": "python",
   "version": "3.8.5 (default, Sep  3 2020, 21:29:08) [MSC v.1916 64 bit (AMD64)]"
  },
  "orig_nbformat": 4,
  "vscode": {
   "interpreter": {
    "hash": "e06ff7da33dc9620448857a90ad8b5f428f0d573d205a934d2841c8aee45ea32"
   }
  }
 },
 "nbformat": 4,
 "nbformat_minor": 2
}
